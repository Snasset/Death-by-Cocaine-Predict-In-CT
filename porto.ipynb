{
 "cells": [
  {
   "cell_type": "markdown",
   "id": "1869b090-f160-476c-9be1-79073423b08f",
   "metadata": {},
   "source": [
    "## Business Understanding\n",
    "\n",
    "The rate of overdose deaths in Connecticut increased. In this case, Cocaine. In Connecticut, if you are found guilty of cocaine possession, for a first offense, you face up to seven years in prison as well as a maximum \\\\$50,000 fine. For a second offense, now you might spend up to 15 years in prison and a maximum \\\\$100,000 fine. In short, Cocaine is illegal in Connecticut. So, this model will predict if a person is involved in cocaine-related death based on race, age, sex, and death city."
   ]
  },
  {
   "cell_type": "markdown",
   "id": "03add306-898b-4315-b0c8-0053fc5b977f",
   "metadata": {},
   "source": [
    "## Data Understanding\n",
    "\n",
    "The dataset provide a variant of drugs death. In this case, only need one drug which is Cocaine.\n",
    "\n",
    "The following attributes will be used in the analysis:\n",
    "\n",
    "- Age\n",
    "- Sex\n",
    "- Race\n",
    "- DeathCity\n",
    "- ResidenceState\n",
    "- Cocaine"
   ]
  },
  {
   "cell_type": "code",
   "execution_count": 5,
   "id": "9e8bf32b-3463-4db5-9e7c-63ee25a5c91c",
   "metadata": {},
   "outputs": [],
   "source": [
    "#Import pandas to read dataset from csv and assign it to a variable\n",
    "import pandas as pd\n",
    "\n",
    "df_csv = pd.read_csv('drug_deaths.csv')"
   ]
  },
  {
   "cell_type": "code",
   "execution_count": 6,
   "id": "93b61359-672a-4999-b690-4671dc1602fe",
   "metadata": {},
   "outputs": [
    {
     "data": {
      "text/plain": [
       "Index(['Unnamed: 0', 'ID', 'Date', 'DateType', 'Age', 'Sex', 'Race',\n",
       "       'ResidenceCity', 'ResidenceCounty', 'ResidenceState', 'DeathCity',\n",
       "       'DeathCounty', 'Location', 'LocationifOther', 'DescriptionofInjury',\n",
       "       'InjuryPlace', 'InjuryCity', 'InjuryCounty', 'InjuryState', 'COD',\n",
       "       'OtherSignifican', 'Heroin', 'Cocaine', 'Fentanyl', 'Fentanyl_Analogue',\n",
       "       'Oxycodone', 'Oxymorphone', 'Ethanol', 'Hydrocodone', 'Benzodiazepine',\n",
       "       'Methadone', 'Amphet', 'Tramad', 'Morphine_NotHeroin', 'Hydromorphone',\n",
       "       'Other', 'OpiateNOS', 'AnyOpioid', 'MannerofDeath', 'DeathCityGeo',\n",
       "       'ResidenceCityGeo', 'InjuryCityGeo'],\n",
       "      dtype='object')"
      ]
     },
     "execution_count": 6,
     "metadata": {},
     "output_type": "execute_result"
    }
   ],
   "source": [
    "# Finding unnecessary columns \n",
    "# Using columns to show all columns in dataset\n",
    "df_csv.columns"
   ]
  },
  {
   "cell_type": "code",
   "execution_count": 7,
   "id": "56d5b205-9af7-458d-b52d-c3f8049b1d78",
   "metadata": {},
   "outputs": [
    {
     "data": {
      "text/html": [
       "<div>\n",
       "<style scoped>\n",
       "    .dataframe tbody tr th:only-of-type {\n",
       "        vertical-align: middle;\n",
       "    }\n",
       "\n",
       "    .dataframe tbody tr th {\n",
       "        vertical-align: top;\n",
       "    }\n",
       "\n",
       "    .dataframe thead th {\n",
       "        text-align: right;\n",
       "    }\n",
       "</style>\n",
       "<table border=\"1\" class=\"dataframe\">\n",
       "  <thead>\n",
       "    <tr style=\"text-align: right;\">\n",
       "      <th></th>\n",
       "      <th>Age</th>\n",
       "      <th>Sex</th>\n",
       "      <th>Race</th>\n",
       "      <th>DeathCity</th>\n",
       "      <th>ResidenceState</th>\n",
       "      <th>Cocaine</th>\n",
       "    </tr>\n",
       "  </thead>\n",
       "  <tbody>\n",
       "    <tr>\n",
       "      <th>0</th>\n",
       "      <td>NaN</td>\n",
       "      <td>NaN</td>\n",
       "      <td>NaN</td>\n",
       "      <td>NaN</td>\n",
       "      <td>NaN</td>\n",
       "      <td>0</td>\n",
       "    </tr>\n",
       "    <tr>\n",
       "      <th>1</th>\n",
       "      <td>48.0</td>\n",
       "      <td>Male</td>\n",
       "      <td>Black</td>\n",
       "      <td>NORWALK</td>\n",
       "      <td>NaN</td>\n",
       "      <td>1</td>\n",
       "    </tr>\n",
       "    <tr>\n",
       "      <th>2</th>\n",
       "      <td>30.0</td>\n",
       "      <td>Female</td>\n",
       "      <td>White</td>\n",
       "      <td>DANBURY</td>\n",
       "      <td>CT</td>\n",
       "      <td>1</td>\n",
       "    </tr>\n",
       "    <tr>\n",
       "      <th>3</th>\n",
       "      <td>23.0</td>\n",
       "      <td>Male</td>\n",
       "      <td>White</td>\n",
       "      <td>GREENWICH</td>\n",
       "      <td>NY</td>\n",
       "      <td>0</td>\n",
       "    </tr>\n",
       "    <tr>\n",
       "      <th>4</th>\n",
       "      <td>22.0</td>\n",
       "      <td>Male</td>\n",
       "      <td>Asian, Other</td>\n",
       "      <td>GREENWICH</td>\n",
       "      <td>NaN</td>\n",
       "      <td>0</td>\n",
       "    </tr>\n",
       "  </tbody>\n",
       "</table>\n",
       "</div>"
      ],
      "text/plain": [
       "    Age     Sex          Race  DeathCity ResidenceState  Cocaine\n",
       "0   NaN     NaN           NaN        NaN            NaN        0\n",
       "1  48.0    Male         Black    NORWALK            NaN        1\n",
       "2  30.0  Female         White    DANBURY             CT        1\n",
       "3  23.0    Male         White  GREENWICH             NY        0\n",
       "4  22.0    Male  Asian, Other  GREENWICH            NaN        0"
      ]
     },
     "execution_count": 7,
     "metadata": {},
     "output_type": "execute_result"
    }
   ],
   "source": [
    "# Take all the needed columns\n",
    "df_subset= df_csv[['Age', 'Sex','Race','DeathCity','ResidenceState','Cocaine']]\n",
    "df_subset.head()"
   ]
  },
  {
   "cell_type": "code",
   "execution_count": 8,
   "id": "e9ce5d06-a2dc-4852-a0c0-bace82eced7a",
   "metadata": {},
   "outputs": [
    {
     "data": {
      "text/html": [
       "<div>\n",
       "<style scoped>\n",
       "    .dataframe tbody tr th:only-of-type {\n",
       "        vertical-align: middle;\n",
       "    }\n",
       "\n",
       "    .dataframe tbody tr th {\n",
       "        vertical-align: top;\n",
       "    }\n",
       "\n",
       "    .dataframe thead th {\n",
       "        text-align: right;\n",
       "    }\n",
       "</style>\n",
       "<table border=\"1\" class=\"dataframe\">\n",
       "  <thead>\n",
       "    <tr style=\"text-align: right;\">\n",
       "      <th></th>\n",
       "      <th>Age</th>\n",
       "      <th>Sex</th>\n",
       "      <th>Race</th>\n",
       "      <th>DeathCity</th>\n",
       "      <th>Cocaine</th>\n",
       "    </tr>\n",
       "  </thead>\n",
       "  <tbody>\n",
       "    <tr>\n",
       "      <th>count</th>\n",
       "      <td>3442.000000</td>\n",
       "      <td>3439</td>\n",
       "      <td>3436</td>\n",
       "      <td>3442</td>\n",
       "      <td>3442.000000</td>\n",
       "    </tr>\n",
       "    <tr>\n",
       "      <th>unique</th>\n",
       "      <td>NaN</td>\n",
       "      <td>3</td>\n",
       "      <td>10</td>\n",
       "      <td>207</td>\n",
       "      <td>NaN</td>\n",
       "    </tr>\n",
       "    <tr>\n",
       "      <th>top</th>\n",
       "      <td>NaN</td>\n",
       "      <td>Male</td>\n",
       "      <td>White</td>\n",
       "      <td>HARTFORD</td>\n",
       "      <td>NaN</td>\n",
       "    </tr>\n",
       "    <tr>\n",
       "      <th>freq</th>\n",
       "      <td>NaN</td>\n",
       "      <td>2574</td>\n",
       "      <td>2690</td>\n",
       "      <td>393</td>\n",
       "      <td>NaN</td>\n",
       "    </tr>\n",
       "    <tr>\n",
       "      <th>mean</th>\n",
       "      <td>42.385822</td>\n",
       "      <td>NaN</td>\n",
       "      <td>NaN</td>\n",
       "      <td>NaN</td>\n",
       "      <td>0.298083</td>\n",
       "    </tr>\n",
       "    <tr>\n",
       "      <th>std</th>\n",
       "      <td>12.401400</td>\n",
       "      <td>NaN</td>\n",
       "      <td>NaN</td>\n",
       "      <td>NaN</td>\n",
       "      <td>0.457482</td>\n",
       "    </tr>\n",
       "    <tr>\n",
       "      <th>min</th>\n",
       "      <td>15.000000</td>\n",
       "      <td>NaN</td>\n",
       "      <td>NaN</td>\n",
       "      <td>NaN</td>\n",
       "      <td>0.000000</td>\n",
       "    </tr>\n",
       "    <tr>\n",
       "      <th>25%</th>\n",
       "      <td>32.000000</td>\n",
       "      <td>NaN</td>\n",
       "      <td>NaN</td>\n",
       "      <td>NaN</td>\n",
       "      <td>0.000000</td>\n",
       "    </tr>\n",
       "    <tr>\n",
       "      <th>50%</th>\n",
       "      <td>42.000000</td>\n",
       "      <td>NaN</td>\n",
       "      <td>NaN</td>\n",
       "      <td>NaN</td>\n",
       "      <td>0.000000</td>\n",
       "    </tr>\n",
       "    <tr>\n",
       "      <th>75%</th>\n",
       "      <td>52.000000</td>\n",
       "      <td>NaN</td>\n",
       "      <td>NaN</td>\n",
       "      <td>NaN</td>\n",
       "      <td>1.000000</td>\n",
       "    </tr>\n",
       "    <tr>\n",
       "      <th>max</th>\n",
       "      <td>84.000000</td>\n",
       "      <td>NaN</td>\n",
       "      <td>NaN</td>\n",
       "      <td>NaN</td>\n",
       "      <td>1.000000</td>\n",
       "    </tr>\n",
       "  </tbody>\n",
       "</table>\n",
       "</div>"
      ],
      "text/plain": [
       "                Age   Sex   Race DeathCity      Cocaine\n",
       "count   3442.000000  3439   3436      3442  3442.000000\n",
       "unique          NaN     3     10       207          NaN\n",
       "top             NaN  Male  White  HARTFORD          NaN\n",
       "freq            NaN  2574   2690       393          NaN\n",
       "mean      42.385822   NaN    NaN       NaN     0.298083\n",
       "std       12.401400   NaN    NaN       NaN     0.457482\n",
       "min       15.000000   NaN    NaN       NaN     0.000000\n",
       "25%       32.000000   NaN    NaN       NaN     0.000000\n",
       "50%       42.000000   NaN    NaN       NaN     0.000000\n",
       "75%       52.000000   NaN    NaN       NaN     1.000000\n",
       "max       84.000000   NaN    NaN       NaN     1.000000"
      ]
     },
     "execution_count": 8,
     "metadata": {},
     "output_type": "execute_result"
    }
   ],
   "source": [
    "# Mengambil data berdasarkan nilai CT (Connecticut)\n",
    "df_subset_ct = df_subset[df_subset['ResidenceState'] == 'CT']\n",
    "\n",
    "# Drop the Column of ResidenceState\n",
    "df_subset_ct = df_subset_ct.drop(columns = 'ResidenceState')\n",
    "df_subset_ct.describe(include='all')"
   ]
  },
  {
   "cell_type": "code",
   "execution_count": 9,
   "id": "924f72e9-d1d0-46de-9cbb-2f504dccf7b9",
   "metadata": {},
   "outputs": [],
   "source": [
    "# Change data type of Age from float to int\n",
    "df_subset_ct = df_subset_ct.astype({'Age': int}) "
   ]
  },
  {
   "cell_type": "code",
   "execution_count": 10,
   "id": "29806023-1277-4629-a80c-5568a2ec46ff",
   "metadata": {},
   "outputs": [
    {
     "data": {
      "text/plain": [
       "Age           int64\n",
       "Sex          object\n",
       "Race         object\n",
       "DeathCity    object\n",
       "Cocaine       int64\n",
       "dtype: object"
      ]
     },
     "execution_count": 10,
     "metadata": {},
     "output_type": "execute_result"
    }
   ],
   "source": [
    "df_subset_ct.dtypes"
   ]
  },
  {
   "cell_type": "markdown",
   "id": "3bc9aa50-73fa-4be1-8a28-1b2907690035",
   "metadata": {},
   "source": [
    "# Impute"
   ]
  },
  {
   "cell_type": "markdown",
   "id": "de13cc80-2d06-4826-9645-fa83a239ed70",
   "metadata": {},
   "source": [
    "Imputing useful for fill in the missing data.\n",
    "\n",
    "The data need to be checked either have a missing data or not.\n",
    "\n",
    "To fill it up, simply use Simple Imputer for Categorical and KNN for Numerical."
   ]
  },
  {
   "cell_type": "code",
   "execution_count": 11,
   "id": "1464642c-3787-4f1c-b11f-341d6ebdbe0f",
   "metadata": {},
   "outputs": [
    {
     "data": {
      "text/plain": [
       "Age          0\n",
       "Sex          3\n",
       "Race         6\n",
       "DeathCity    0\n",
       "Cocaine      0\n",
       "dtype: int64"
      ]
     },
     "execution_count": 11,
     "metadata": {},
     "output_type": "execute_result"
    }
   ],
   "source": [
    "# Sum of missing datas\n",
    "df_subset_ct.isna().sum()"
   ]
  },
  {
   "cell_type": "code",
   "execution_count": 12,
   "id": "ac49f515-60de-483e-8e35-f04362300fba",
   "metadata": {},
   "outputs": [
    {
     "data": {
      "text/plain": [
       "Age          0.000000\n",
       "Sex          0.058766\n",
       "Race         0.117532\n",
       "DeathCity    0.000000\n",
       "Cocaine      0.000000\n",
       "dtype: float64"
      ]
     },
     "execution_count": 12,
     "metadata": {},
     "output_type": "execute_result"
    }
   ],
   "source": [
    "# Percetage of missing datas\n",
    "miss_values = (df_subset_ct.isnull().sum() / df_subset.shape[0]) * 100\n",
    "miss_values"
   ]
  },
  {
   "cell_type": "code",
   "execution_count": 13,
   "id": "3dd14308-1e1f-4d04-83f8-1755ea624eef",
   "metadata": {},
   "outputs": [],
   "source": [
    "import numpy as np\n",
    "from sklearn.impute import SimpleImputer"
   ]
  },
  {
   "cell_type": "code",
   "execution_count": 14,
   "id": "ca1597be-3240-4935-b8d4-889312a149fe",
   "metadata": {},
   "outputs": [],
   "source": [
    "# Perform imputation to a categorical column with SimpleImputer\n",
    "cat_col = ['Sex','Race']\n",
    "simpleImputer = SimpleImputer(strategy='most_frequent')\n",
    "\n",
    "# Loop every categorical calumn and impute\n",
    "for i in cat_col:\n",
    "    # Store the column\n",
    "    df_cat_copy = df_subset_ct[i].copy() \n",
    "\n",
    "    # Fit transform\n",
    "    simple_imputed_data = simpleImputer.fit_transform(df_cat_copy.values.reshape(-1, 1))\n",
    "\n",
    "    # Replace the data in the column\n",
    "    df_subset_ct.loc[:, i] = simple_imputed_data.flatten()"
   ]
  },
  {
   "cell_type": "code",
   "execution_count": 15,
   "id": "49b736b8-86c6-4a27-8d0c-a32723039dc1",
   "metadata": {},
   "outputs": [
    {
     "data": {
      "text/plain": [
       "Age          False\n",
       "Sex          False\n",
       "Race         False\n",
       "DeathCity    False\n",
       "Cocaine      False\n",
       "dtype: bool"
      ]
     },
     "execution_count": 15,
     "metadata": {},
     "output_type": "execute_result"
    }
   ],
   "source": [
    "# Check if there any missing value\n",
    "df_subset_ct.isna().any()"
   ]
  },
  {
   "cell_type": "markdown",
   "id": "9c9ffa34-b26d-4cdf-a017-5b0e7f895dd4",
   "metadata": {},
   "source": [
    "# Outlier"
   ]
  },
  {
   "cell_type": "markdown",
   "id": "003d2b3e-2fb7-4a52-9fbb-52e5f8ad7f43",
   "metadata": {},
   "source": [
    "Outlier are value that are above/below the quantile (first and third). \n",
    "\n",
    "To check it, there are 2 methods will be used; IQR and Boxplot."
   ]
  },
  {
   "cell_type": "code",
   "execution_count": 16,
   "id": "4e305412-155f-4e11-ab72-abc63ef54882",
   "metadata": {},
   "outputs": [
    {
     "data": {
      "text/plain": [
       "Age        20.0\n",
       "Cocaine     1.0\n",
       "dtype: float64"
      ]
     },
     "execution_count": 16,
     "metadata": {},
     "output_type": "execute_result"
    }
   ],
   "source": [
    "q1 = df_subset_ct.select_dtypes(exclude='object').quantile(0.25)\n",
    "q3 = df_subset_ct.select_dtypes(exclude='object').quantile(0.75)\n",
    "iqr = q3 - q1\n",
    "iqr"
   ]
  },
  {
   "cell_type": "code",
   "execution_count": 17,
   "id": "e686cb67-b8f0-40f6-835e-d844af1718c6",
   "metadata": {},
   "outputs": [],
   "source": [
    "batas_bawah = q1 - (1.5 * iqr)\n",
    "batas_atas = q3 + (1.5 * iqr)"
   ]
  },
  {
   "cell_type": "code",
   "execution_count": 18,
   "id": "09a97ab2-5bdd-47dc-a924-41ea614d0d30",
   "metadata": {},
   "outputs": [
    {
     "data": {
      "text/html": [
       "<div>\n",
       "<style scoped>\n",
       "    .dataframe tbody tr th:only-of-type {\n",
       "        vertical-align: middle;\n",
       "    }\n",
       "\n",
       "    .dataframe tbody tr th {\n",
       "        vertical-align: top;\n",
       "    }\n",
       "\n",
       "    .dataframe thead th {\n",
       "        text-align: right;\n",
       "    }\n",
       "</style>\n",
       "<table border=\"1\" class=\"dataframe\">\n",
       "  <thead>\n",
       "    <tr style=\"text-align: right;\">\n",
       "      <th></th>\n",
       "      <th>Age</th>\n",
       "      <th>Cocaine</th>\n",
       "    </tr>\n",
       "  </thead>\n",
       "  <tbody>\n",
       "    <tr>\n",
       "      <th>2</th>\n",
       "      <td>False</td>\n",
       "      <td>False</td>\n",
       "    </tr>\n",
       "    <tr>\n",
       "      <th>13</th>\n",
       "      <td>False</td>\n",
       "      <td>False</td>\n",
       "    </tr>\n",
       "    <tr>\n",
       "      <th>14</th>\n",
       "      <td>False</td>\n",
       "      <td>False</td>\n",
       "    </tr>\n",
       "    <tr>\n",
       "      <th>18</th>\n",
       "      <td>False</td>\n",
       "      <td>False</td>\n",
       "    </tr>\n",
       "    <tr>\n",
       "      <th>19</th>\n",
       "      <td>False</td>\n",
       "      <td>False</td>\n",
       "    </tr>\n",
       "    <tr>\n",
       "      <th>...</th>\n",
       "      <td>...</td>\n",
       "      <td>...</td>\n",
       "    </tr>\n",
       "    <tr>\n",
       "      <th>5097</th>\n",
       "      <td>False</td>\n",
       "      <td>False</td>\n",
       "    </tr>\n",
       "    <tr>\n",
       "      <th>5099</th>\n",
       "      <td>False</td>\n",
       "      <td>False</td>\n",
       "    </tr>\n",
       "    <tr>\n",
       "      <th>5100</th>\n",
       "      <td>False</td>\n",
       "      <td>False</td>\n",
       "    </tr>\n",
       "    <tr>\n",
       "      <th>5101</th>\n",
       "      <td>False</td>\n",
       "      <td>False</td>\n",
       "    </tr>\n",
       "    <tr>\n",
       "      <th>5104</th>\n",
       "      <td>False</td>\n",
       "      <td>False</td>\n",
       "    </tr>\n",
       "  </tbody>\n",
       "</table>\n",
       "<p>3442 rows × 2 columns</p>\n",
       "</div>"
      ],
      "text/plain": [
       "        Age  Cocaine\n",
       "2     False    False\n",
       "13    False    False\n",
       "14    False    False\n",
       "18    False    False\n",
       "19    False    False\n",
       "...     ...      ...\n",
       "5097  False    False\n",
       "5099  False    False\n",
       "5100  False    False\n",
       "5101  False    False\n",
       "5104  False    False\n",
       "\n",
       "[3442 rows x 2 columns]"
      ]
     },
     "execution_count": 18,
     "metadata": {},
     "output_type": "execute_result"
    }
   ],
   "source": [
    "df_numerical = df_subset_ct.select_dtypes(exclude='object')\n",
    "outlier = ((df_numerical < batas_bawah) | (df_numerical > batas_atas))\n",
    "outlier"
   ]
  },
  {
   "cell_type": "code",
   "execution_count": 19,
   "id": "f55e0240-295f-408f-ac90-cd676a601060",
   "metadata": {},
   "outputs": [
    {
     "name": "stdout",
     "output_type": "stream",
     "text": [
      "Nama Kolom: Age\n",
      "Age\n",
      "False    3441\n",
      "True        1\n",
      "Name: count, dtype: int64\n",
      "-------------------\n",
      "Nama Kolom: Cocaine\n",
      "Cocaine\n",
      "False    3442\n",
      "Name: count, dtype: int64\n",
      "-------------------\n"
     ]
    }
   ],
   "source": [
    "for col in outlier.columns :\n",
    "    if df_subset_ct[col].dtype != object :\n",
    "        print('Nama Kolom:',col)\n",
    "        print(outlier[col].value_counts())\n",
    "        print('-------------------')"
   ]
  },
  {
   "cell_type": "code",
   "execution_count": 20,
   "id": "29e0b9ba-078f-4ba9-9c4b-32940509d631",
   "metadata": {},
   "outputs": [
    {
     "data": {
      "image/png": "[encoded data removed]",
      "text/plain": [
       "<Figure size 2000x200 with 1 Axes>"
      ]
     },
     "metadata": {},
     "output_type": "display_data"
    },
    {
     "data": {
      "image/png": "[encoded data removed]",
      "text/plain": [
       "<Figure size 2000x200 with 1 Axes>"
      ]
     },
     "metadata": {},
     "output_type": "display_data"
    }
   ],
   "source": [
    "import matplotlib.pyplot as plt\n",
    "import seaborn as sns\n",
    "df_outlier = df_subset_ct.select_dtypes(exclude=['object'])\n",
    "for column in df_outlier:\n",
    "        plt.figure(figsize=(20,2))\n",
    "        sns.boxplot(data=df_outlier, x=column)"
   ]
  },
  {
   "cell_type": "code",
   "execution_count": 21,
   "id": "45b200ea-1069-4247-a563-6246a1836edc",
   "metadata": {},
   "outputs": [],
   "source": [
    "from scipy.stats.mstats import winsorize"
   ]
  },
  {
   "cell_type": "code",
   "execution_count": 22,
   "id": "a3d863e1-f2c2-4a61-a548-008469bb4709",
   "metadata": {},
   "outputs": [],
   "source": [
    "df_subset_ct.loc[:,'Age'] = winsorize(df_subset_ct.loc[:,'Age'], limits =[0,0.01])"
   ]
  },
  {
   "cell_type": "code",
   "execution_count": 23,
   "id": "26ad279e-b89a-417d-a052-da81d3c385ad",
   "metadata": {},
   "outputs": [
    {
     "data": {
      "text/plain": [
       "<Axes: xlabel='Age'>"
      ]
     },
     "execution_count": 23,
     "metadata": {},
     "output_type": "execute_result"
    },
    {
     "data": {
      "image/png": "[encoded data removed]",
      "text/plain": [
       "<Figure size 2000x200 with 1 Axes>"
      ]
     },
     "metadata": {},
     "output_type": "display_data"
    }
   ],
   "source": [
    "plt.figure(figsize=(20,2))\n",
    "sns.boxplot(data=df_subset_ct, x=df_subset_ct['Age'])"
   ]
  },
  {
   "cell_type": "markdown",
   "id": "ae14eaf3-b389-421a-8ce0-e2d6c1f0d144",
   "metadata": {},
   "source": [
    "# Visualization"
   ]
  },
  {
   "cell_type": "code",
   "execution_count": 24,
   "id": "e910ba03-0c9b-413c-8eb0-cbca4374f72d",
   "metadata": {},
   "outputs": [
    {
     "data": {
      "text/plain": [
       "DeathCity\n",
       "HARTFORD       144\n",
       "WATERBURY       94\n",
       "BRIDGEPORT      85\n",
       "NEW HAVEN       71\n",
       "NEW BRITAIN     40\n",
       "              ... \n",
       "QUINEBAUG        0\n",
       "KENT             0\n",
       "PROSPECT         0\n",
       "PRESTON          0\n",
       "SPRAGUE          0\n",
       "Name: Cocaine, Length: 207, dtype: int64"
      ]
     },
     "execution_count": 24,
     "metadata": {},
     "output_type": "execute_result"
    }
   ],
   "source": [
    "df_subset_ct.groupby('DeathCity').sum()['Cocaine'].sort_values(ascending=False)"
   ]
  },
  {
   "cell_type": "code",
   "execution_count": 25,
   "id": "4fb0fbad-8c36-44fc-adff-48df58639644",
   "metadata": {},
   "outputs": [
    {
     "data": {
      "image/png": "[encoded data removed]",
      "text/plain": [
       "<Figure size 1000x500 with 1 Axes>"
      ]
     },
     "metadata": {},
     "output_type": "display_data"
    }
   ],
   "source": [
    "death_city_count = df_subset_ct.groupby('DeathCity').sum()['Cocaine'].sort_values(ascending=False)\n",
    "\n",
    "plt.figure(figsize=(10,5))\n",
    "\n",
    "myColors = sns.color_palette('pastel')[0:5]\n",
    "death_city_count[0:20].plot(kind='bar',color= myColors)\n",
    "plt.ylabel('Jumlah Kasus Cocaine')\n",
    "plt.xlabel('Kota Tempat Kematian')\n",
    "plt.title('Jumlah Kasus Cocaine Terkait Kematian di Setiap Kota di Connecticut')\n",
    "plt.show()"
   ]
  },
  {
   "cell_type": "code",
   "execution_count": 26,
   "id": "80b3f5df-059b-4d02-abf0-d4e649dc7839",
   "metadata": {},
   "outputs": [
    {
     "data": {
      "text/plain": [
       "Cocaine\n",
       "0    2416\n",
       "1    1026\n",
       "Name: count, dtype: int64"
      ]
     },
     "execution_count": 26,
     "metadata": {},
     "output_type": "execute_result"
    }
   ],
   "source": [
    "cocaine_counts = df_subset_ct['Cocaine'].value_counts()\n",
    "\n",
    "cocaine_counts = cocaine_counts.reindex([0, 1], fill_value=0)\n",
    "\n",
    "cocaine_counts"
   ]
  },
  {
   "cell_type": "code",
   "execution_count": 27,
   "id": "e5d24f2d-49fd-408b-a0f6-b31425a4154a",
   "metadata": {},
   "outputs": [
    {
     "data": {
      "image/png": "[encoded data removed]",
      "text/plain": [
       "<Figure size 640x480 with 1 Axes>"
      ]
     },
     "metadata": {},
     "output_type": "display_data"
    }
   ],
   "source": [
    "pieChartLabels = ['No','Yes']\n",
    "\n",
    "myColors = sns.color_palette('pastel')\n",
    "\n",
    "\n",
    "plt.pie(cocaine_counts, labels = pieChartLabels, colors = myColors, autopct='%.0f%%')\n",
    "plt\n",
    "plt.show()"
   ]
  },
  {
   "cell_type": "markdown",
   "id": "1025a88d-f332-4778-967c-182a5c87ce64",
   "metadata": {},
   "source": [
    "# Modelling"
   ]
  },
  {
   "cell_type": "markdown",
   "id": "d13a547d-3c64-447d-8fd9-b5635b963314",
   "metadata": {},
   "source": [
    "Since the target (Cocaine) are binary (0, 1). So, Logistic Regression should suitable for it."
   ]
  },
  {
   "cell_type": "markdown",
   "id": "aede80cb-a3ae-4e3e-8524-0b826b9e5c01",
   "metadata": {},
   "source": [
    "### Scaling and Encoding"
   ]
  },
  {
   "cell_type": "code",
   "execution_count": 28,
   "id": "3642824f-f59f-41c2-b6cd-8a7013d462a0",
   "metadata": {},
   "outputs": [],
   "source": [
    "from sklearn.preprocessing import RobustScaler\n",
    "from sklearn.model_selection import train_test_split\n",
    "from sklearn.linear_model import LinearRegression\n",
    "from sklearn.metrics import accuracy_score,mean_squared_error, r2_score\n",
    "\n",
    "from sklearn import preprocessing\n",
    "from sklearn.linear_model import LogisticRegression\n",
    "from sklearn import metrics\n",
    "from sklearn.metrics import classification_report\n",
    "\n",
    "from sklearn.model_selection import cross_val_score, KFold\n",
    "from sklearn.neighbors import KNeighborsClassifier\n",
    "from sklearn.metrics import accuracy_score, classification_report, roc_auc_score"
   ]
  },
  {
   "cell_type": "code",
   "execution_count": 30,
   "id": "929dbdb3-3c8f-48fe-8fe0-d572de8c6445",
   "metadata": {},
   "outputs": [],
   "source": [
    "# Encode\n",
    "df_encode = df_subset_ct.copy()\n",
    "cat_col = ['Sex','Race','DeathCity']\n",
    "\n",
    "label_encoder = preprocessing.LabelEncoder()\n",
    "\n",
    "df_encode.loc[:,cat_col] = df_encode.loc[:,cat_col].apply(label_encoder.fit_transform)"
   ]
  },
  {
   "cell_type": "code",
   "execution_count": 31,
   "id": "135cef78-4e26-41f7-b6dd-1e08d4841dcb",
   "metadata": {},
   "outputs": [
    {
     "data": {
      "text/html": [
       "<div>\n",
       "<style scoped>\n",
       "    .dataframe tbody tr th:only-of-type {\n",
       "        vertical-align: middle;\n",
       "    }\n",
       "\n",
       "    .dataframe tbody tr th {\n",
       "        vertical-align: top;\n",
       "    }\n",
       "\n",
       "    .dataframe thead th {\n",
       "        text-align: right;\n",
       "    }\n",
       "</style>\n",
       "<table border=\"1\" class=\"dataframe\">\n",
       "  <thead>\n",
       "    <tr style=\"text-align: right;\">\n",
       "      <th></th>\n",
       "      <th>Age</th>\n",
       "      <th>Sex</th>\n",
       "      <th>Race</th>\n",
       "      <th>DeathCity</th>\n",
       "      <th>Cocaine</th>\n",
       "    </tr>\n",
       "  </thead>\n",
       "  <tbody>\n",
       "    <tr>\n",
       "      <th>2</th>\n",
       "      <td>30</td>\n",
       "      <td>0</td>\n",
       "      <td>9</td>\n",
       "      <td>-0.760234</td>\n",
       "      <td>1</td>\n",
       "    </tr>\n",
       "    <tr>\n",
       "      <th>13</th>\n",
       "      <td>50</td>\n",
       "      <td>1</td>\n",
       "      <td>9</td>\n",
       "      <td>-0.760234</td>\n",
       "      <td>0</td>\n",
       "    </tr>\n",
       "    <tr>\n",
       "      <th>14</th>\n",
       "      <td>29</td>\n",
       "      <td>1</td>\n",
       "      <td>2</td>\n",
       "      <td>0.058480</td>\n",
       "      <td>0</td>\n",
       "    </tr>\n",
       "    <tr>\n",
       "      <th>18</th>\n",
       "      <td>54</td>\n",
       "      <td>1</td>\n",
       "      <td>9</td>\n",
       "      <td>-0.093567</td>\n",
       "      <td>0</td>\n",
       "    </tr>\n",
       "    <tr>\n",
       "      <th>19</th>\n",
       "      <td>32</td>\n",
       "      <td>1</td>\n",
       "      <td>9</td>\n",
       "      <td>1.134503</td>\n",
       "      <td>0</td>\n",
       "    </tr>\n",
       "  </tbody>\n",
       "</table>\n",
       "</div>"
      ],
      "text/plain": [
       "    Age Sex Race  DeathCity  Cocaine\n",
       "2    30   0    9  -0.760234        1\n",
       "13   50   1    9  -0.760234        0\n",
       "14   29   1    2   0.058480        0\n",
       "18   54   1    9  -0.093567        0\n",
       "19   32   1    9   1.134503        0"
      ]
     },
     "execution_count": 31,
     "metadata": {},
     "output_type": "execute_result"
    }
   ],
   "source": [
    "# Scaling\n",
    "scaler = RobustScaler()\n",
    "df_r_scale = df_encode.copy()\n",
    "df_r_scale[['DeathCity']] = scaler.fit_transform(df_r_scale[['DeathCity']])\n",
    "df_r_scale.head()"
   ]
  },
  {
   "cell_type": "markdown",
   "id": "d5263d15-462d-4a37-9ece-70ff5e6b4355",
   "metadata": {},
   "source": [
    "### Logistic Regression"
   ]
  },
  {
   "cell_type": "code",
   "execution_count": 32,
   "id": "dcf95d84-59e4-4036-9b24-01bbf10c1ded",
   "metadata": {},
   "outputs": [],
   "source": [
    "# Split data\n",
    "\n",
    "x = df_r_scale.iloc[:,0:-1].values\n",
    "y = df_r_scale.iloc[:,-1].values\n",
    "\n",
    "x_train, x_test, y_train, y_test = train_test_split(x, y, test_size=0.3, random_state=0)"
   ]
  },
  {
   "cell_type": "code",
   "execution_count": 33,
   "id": "56572633-ed8c-442d-a031-de66ca1610d7",
   "metadata": {},
   "outputs": [],
   "source": [
    "logis_reg = LogisticRegression(solver='lbfgs', max_iter=1000)\n",
    "\n",
    "logis_reg.fit(x_train, y_train)\n",
    "y_pred = logis_reg.predict(x_test)"
   ]
  },
  {
   "cell_type": "code",
   "execution_count": 34,
   "id": "728b410a-14e8-4d9a-bc50-6d63ba81a757",
   "metadata": {},
   "outputs": [
    {
     "name": "stdout",
     "output_type": "stream",
     "text": [
      "   Actual value  Predicted value\n",
      "0             1                0\n",
      "1             0                0\n",
      "2             0                0\n",
      "3             1                0\n",
      "4             0                0\n"
     ]
    }
   ],
   "source": [
    "logr_diff = pd.DataFrame({'Actual value': y_test, 'Predicted value': y_pred})\n",
    "print(logr_diff.head())"
   ]
  },
  {
   "cell_type": "code",
   "execution_count": 35,
   "id": "f0e1a9aa-c0fe-42da-8c48-abac3d923963",
   "metadata": {},
   "outputs": [
    {
     "name": "stdout",
     "output_type": "stream",
     "text": [
      "              precision    recall  f1-score   support\n",
      "\n",
      " Not Cocaine       0.72      0.99      0.83       731\n",
      "  By Cocaine       0.68      0.05      0.09       302\n",
      "\n",
      "    accuracy                           0.72      1033\n",
      "   macro avg       0.70      0.52      0.46      1033\n",
      "weighted avg       0.71      0.72      0.62      1033\n",
      "\n",
      "Accuracy: 0.715\n"
     ]
    }
   ],
   "source": [
    "target_names = ['Not Cocaine', 'By Cocaine']\n",
    "\n",
    "print(metrics.classification_report(y_test\n",
    "                            , y_pred\n",
    "                            , target_names=target_names))\n",
    "\n",
    "print(\"Accuracy:\", round(accuracy_score(y_test, y_pred), 3))"
   ]
  },
  {
   "cell_type": "code",
   "execution_count": 36,
   "id": "293ecc94-c9a2-4e3e-a273-866d2b0c91d2",
   "metadata": {},
   "outputs": [
    {
     "data": {
      "text/plain": [
       "Text(0.5, 427.9555555555555, 'Predicted label')"
      ]
     },
     "execution_count": 36,
     "metadata": {},
     "output_type": "execute_result"
    },
    {
     "data": {
      "image/png": "[encoded data removed]",
      "text/plain": [
       "<Figure size 640x480 with 2 Axes>"
      ]
     },
     "metadata": {},
     "output_type": "display_data"
    }
   ],
   "source": [
    "# Confussion matrix untuk melihat masalah klasifikasi machine learning dimana keluaran dapat berupa dua kelas atau lebih\n",
    "cnf_matrix = metrics.confusion_matrix(y_test, y_pred)\n",
    "cnf_matrix\n",
    "\n",
    "class_names=[0,1]\n",
    "fig, ax = plt.subplots()\n",
    "tick_marks = np.arange(len(class_names))\n",
    "\n",
    "plt.xticks(tick_marks, class_names)\n",
    "plt.yticks(tick_marks, class_names)\n",
    "\n",
    "sns.heatmap(pd.DataFrame(cnf_matrix)\n",
    "            , annot=True\n",
    "            , cmap=\"YlGnBu\"\n",
    "            ,fmt='g')\n",
    "\n",
    "ax.xaxis.set_label_position(\"top\")\n",
    "\n",
    "plt.tight_layout()\n",
    "plt.title('Confusion matrix', y=1.1)\n",
    "plt.ylabel('Actual label')\n",
    "plt.xlabel('Predicted label')"
   ]
  },
  {
   "cell_type": "code",
   "execution_count": 37,
   "id": "35082d6b-83b3-47e3-b116-27bd14cfdad0",
   "metadata": {},
   "outputs": [],
   "source": [
    "#pip install imblearn"
   ]
  },
  {
   "cell_type": "markdown",
   "id": "e8c2fced-8e2e-4fef-bf28-219216bafcc2",
   "metadata": {},
   "source": [
    "As shown above it seems there's a class imbalanced.\n",
    "\n",
    "Using SMOTE to oversampling the class will balance it."
   ]
  },
  {
   "cell_type": "code",
   "execution_count": 38,
   "id": "345119fb-548c-410f-a419-2c8a89ada897",
   "metadata": {},
   "outputs": [
    {
     "name": "stdout",
     "output_type": "stream",
     "text": [
      "Oversampling with Smote\n",
      "   Actual value  Predicted value\n",
      "0             1                0\n",
      "1             0                0\n",
      "2             0                0\n",
      "3             1                0\n",
      "4             0                0\n",
      "              precision    recall  f1-score      support\n",
      "Not Cocaine    0.730909  0.824897  0.775064   731.000000\n",
      "By Cocaine     0.384615  0.264901  0.313725   302.000000\n",
      "accuracy       0.661181  0.661181  0.661181     0.661181\n",
      "macro avg      0.557762  0.544899  0.544395  1033.000000\n",
      "weighted avg   0.629669  0.661181  0.640191  1033.000000\n",
      "### Accuracy: 0.661\n"
     ]
    },
    {
     "data": {
      "image/png": "[encoded data removed]",
      "text/plain": [
       "<Figure size 640x480 with 2 Axes>"
      ]
     },
     "metadata": {},
     "output_type": "display_data"
    }
   ],
   "source": [
    "### Evaluate\n",
    "from imblearn.over_sampling import SMOTE \n",
    "print(\"Oversampling with Smote\")\n",
    "x = df_r_scale.iloc[:,0:-1].values\n",
    "y = df_r_scale.iloc[:,-1].values\n",
    "\n",
    "x_train, x_test, y_train, y_test = train_test_split(x, y, test_size=0.3, random_state=0)\n",
    "smote = SMOTE(random_state=42)\n",
    "\n",
    "x_train_resampled, y_train_resampled = smote.fit_resample(x_train, y_train)\n",
    "\n",
    "## Inisialisasi dan latih model\n",
    "model = LogisticRegression()\n",
    "model.fit(x_train_resampled, y_train_resampled)\n",
    "\n",
    "    # Prediksi\n",
    "y_pred = model.predict(x_test)\n",
    "\n",
    "logr_diff = pd.DataFrame({'Actual value': y_test, 'Predicted value': y_pred})\n",
    "print(logr_diff.head())\n",
    "\n",
    "\n",
    "target_names = ['Not Cocaine', 'By Cocaine']\n",
    "# Menampilkan classification report sebagai DataFrame\n",
    "classification_report_df = metrics.classification_report(y_test, y_pred, target_names=target_names, output_dict=True)\n",
    "classification_report_df = pd.DataFrame(classification_report_df).transpose()\n",
    "\n",
    "# Tampilkan DataFrame di Streamlit\n",
    "print(classification_report_df)\n",
    "\n",
    "# Menampilkan akurasi\n",
    "accuracy = accuracy_score(y_test, y_pred)\n",
    "print(\"### Accuracy:\", round(accuracy, 3))\n",
    "\n",
    "# Confussion matrix untuk melihat masalah klasifikasi machine learning dimana keluaran dapat berupa dua kelas atau lebih\n",
    "cnf_matrix = metrics.confusion_matrix(y_test, y_pred)\n",
    "cnf_matrix\n",
    "\n",
    "class_names=[0,1]\n",
    "fig, ax = plt.subplots()\n",
    "tick_marks = np.arange(len(class_names))\n",
    "\n",
    "plt.xticks(tick_marks, class_names)\n",
    "plt.yticks(tick_marks, class_names)\n",
    "\n",
    "sns.heatmap(pd.DataFrame(cnf_matrix)\n",
    "                , annot=True\n",
    "                , cmap=\"YlGnBu\"\n",
    "                ,fmt='g')\n",
    "\n",
    "ax.xaxis.set_label_position(\"top\")\n",
    "\n",
    "plt.tight_layout()\n",
    "plt.title('Confusion matrix', y=1.1)\n",
    "plt.ylabel('Actual label')\n",
    "plt.xlabel('Predicted label')\n",
    "plt.show()"
   ]
  }
 ],
 "metadata": {
  "kernelspec": {
   "display_name": "Python 3 (ipykernel)",
   "language": "python",
   "name": "python3"
  },
  "language_info": {
   "codemirror_mode": {
    "name": "ipython",
    "version": 3
   },
   "file_extension": ".py",
   "mimetype": "text/x-python",
   "name": "python",
   "nbconvert_exporter": "python",
   "pygments_lexer": "ipython3",
   "version": "3.10.12"
  }
 },
 "nbformat": 4,
 "nbformat_minor": 5
}
